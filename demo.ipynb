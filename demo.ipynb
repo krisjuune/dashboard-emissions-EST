{
 "cells": [
  {
   "cell_type": "code",
   "execution_count": 1,
   "metadata": {},
   "outputs": [
    {
     "data": {
      "text/plain": [
       "'/Users/kristiinajoon/Documents/Projects/KeM/veebirakendus_demo'"
      ]
     },
     "execution_count": 1,
     "metadata": {},
     "output_type": "execute_result"
    }
   ],
   "source": [
    "import os\n",
    "import numpy as np\n",
    "import pandas as pd\n",
    "import dash\n",
    "from dash import dcc, html\n",
    "from dash.dependencies import Input, Output\n",
    "import dash_bootstrap_components as dbc\n",
    "import plotly.express as px\n",
    "import plotly.graph_objects as go\n",
    "os.getcwd()"
   ]
  },
  {
   "cell_type": "code",
   "execution_count": 2,
   "metadata": {},
   "outputs": [
    {
     "name": "stderr",
     "output_type": "stream",
     "text": [
      "/var/folders/39/_jkw8gcx2_l0kj6z6ksdt_440000gn/T/ipykernel_3518/1200659283.py:11: FutureWarning: The default value of regex will change from True to False in a future version. In addition, single character regular expressions will *not* be treated as literal strings when regex=True.\n",
      "  df.columns = df.columns.str.strip().str.lower().str.replace(' ', '_').str.replace('(', '').str.replace(')', '')\n"
     ]
    }
   ],
   "source": [
    "# get data\n",
    "\n",
    "# identify NaN values as empty space, don't import NaN values to dataframe\n",
    "df = pd.read_csv(\"energeetika.csv\", na_values='', keep_default_na=True) \n",
    "# here defo better way, remove unnecessary columns\n",
    "df = df.drop(df.columns[5:], axis=1)\n",
    "# remove column \n",
    "df = df.drop(df.columns[1], axis=1) \n",
    "df = df.drop(df.columns[2], axis=1)\n",
    "# clean up names\n",
    "df.columns = df.columns.str.strip().str.lower().str.replace(' ', '_').str.replace('(', '').str.replace(')', '') \n",
    "df\n",
    "\n",
    "# prepare data for plotting\n",
    "df['muu_heide'] = (df['koguheide_maakasutuseta_kt_co2_ekv'] - df['energeetika_kt_co2_ekv'])\n",
    "df['en_protsent'] = (df['energeetika_kt_co2_ekv'] / df['koguheide_maakasutuseta_kt_co2_ekv'] * 100)\n",
    "df['muu_protsent'] = (100 - df['en_protsent'])"
   ]
  },
  {
   "cell_type": "code",
   "execution_count": 9,
   "metadata": {},
   "outputs": [
    {
     "name": "stdout",
     "output_type": "stream",
     "text": [
      "Dash is running on http://127.0.0.1:8050/\n",
      "\n",
      "Dash is running on http://127.0.0.1:8050/\n",
      "\n",
      "Dash is running on http://127.0.0.1:8050/\n",
      "\n",
      "Dash is running on http://127.0.0.1:8050/\n",
      "\n",
      "Dash is running on http://127.0.0.1:8050/\n",
      "\n",
      "Dash is running on http://127.0.0.1:8050/\n",
      "\n",
      "Dash is running on http://127.0.0.1:8050/\n",
      "\n",
      " * Serving Flask app '__main__' (lazy loading)\n",
      " * Environment: production\n",
      "\u001b[31m   WARNING: This is a development server. Do not use it in a production deployment.\u001b[0m\n",
      "\u001b[2m   Use a production WSGI server instead.\u001b[0m\n",
      " * Debug mode: on\n"
     ]
    }
   ],
   "source": [
    "# create web application\n",
    "app = dash.Dash(__name__, external_stylesheets=[dbc.themes.FLATLY])\n",
    "\n",
    "# define markdown texts\n",
    "md_top = '''\n",
    "# Kliimaandmed\n",
    "  \n",
    "Interaktiivne rakendus kliimaandmetes orienteerumiseks.\n",
    "'''\n",
    "md_dropdown = '''\n",
    "### Vali graafik:\n",
    "'''\n",
    "md_slider = '''\n",
    "### Vali ajavahemik:\n",
    "'''\n",
    "md_footnote = '''\n",
    "*Selle graafiku koostamisel pole võetud arvesse \n",
    "kasvuhoonegaaside heidet maakasutuse muutustest. \n",
    "'''\n",
    "\n",
    "app.layout = dbc.Container([                        # must declare bootstrap theme at top or none of this will work\n",
    "    # first row for title and subtitle\n",
    "    dbc.Row([\n",
    "        html.Div([\n",
    "            dcc.Markdown(children=md_top, style={'text-align': 'center'})\n",
    "        ])\n",
    "    ]),\n",
    "\n",
    "    # second row for the graph and its interactive elements\n",
    "    dbc.Row([\n",
    "        html.Div([\n",
    "            dcc.Markdown(children=md_dropdown),\n",
    "            dcc.Dropdown(\n",
    "                id='dropdown',\n",
    "                options=[\n",
    "                    {'label': 'suhteline heide', 'value': 'protsent'},\n",
    "                    {'label': 'koguheide', 'value': 'kogu'},\n",
    "                        ],\n",
    "                value='protsent',\n",
    "                style={\"width\": \"60%\"}),\n",
    "        ]),\n",
    "        html.Div(dcc.Graph(id='graph')),  \n",
    "        html.Div([\n",
    "            dcc.Markdown(children=md_slider),\n",
    "            dcc.RangeSlider(\n",
    "                id='slider',\n",
    "                min=1990,\n",
    "                max=2020,\n",
    "                step=1,\n",
    "                value=[1990,2020],\n",
    "                allowCross=False, \n",
    "                tooltip={\"placement\": \"top\", \"always_visible\": True})\n",
    "        ])  \n",
    "    ]),\n",
    "\n",
    "    # third row for the footnote\n",
    "    dbc.Row([\n",
    "        html.Div(dcc.Markdown(children=md_footnote))\n",
    "    ])     \n",
    "])\n",
    "\n",
    "@app.callback(\n",
    "    Output('graph', 'figure'),\n",
    "    [Input(component_id='dropdown', component_property='value'),\n",
    "    Input(component_id='slider', component_property='value')]\n",
    ")\n",
    "def select_graph(plot_type,year_range):\n",
    "    df_copy = df.copy()                         # make copy of dataframe\n",
    "    df_copy = df_copy[df_copy['aasta'].between(year_range[0], year_range[1])]\n",
    "    if plot_type == 'protsent':\n",
    "        fig = px.bar(df_copy,                   # suhteline heide, graafik protsentides\n",
    "             x='aasta',\n",
    "             y=['en_protsent','muu_protsent'],\n",
    "             barmode='stack',\n",
    "             color_discrete_map={\n",
    "             'en_protsent': '#440154',\n",
    "             'muu_protsent': '#5ec962'}, \n",
    "             opacity=0.7)\n",
    "        return fig\n",
    "    elif plot_type == 'kogu':\n",
    "        fig = px.bar(df_copy,                       # absoluutne heide, graafik kt CO2 ekv\n",
    "             x='aasta',\n",
    "             y=['energeetika_kt_co2_ekv','muu_heide'],\n",
    "             barmode='stack',\n",
    "             color_discrete_map={\n",
    "             'energeetika_kt_co2_ekv': '#440154',\n",
    "             'muu_heide': '#5ec962'}, \n",
    "             opacity=0.7)\n",
    "        return fig\n",
    "\n",
    "\n",
    "\n",
    "app.run_server(debug=True, use_reloader=False)"
   ]
  }
 ],
 "metadata": {
  "interpreter": {
   "hash": "2b0ea115262b23331561dfe70524fab2c40649957f633706d20ae88c938625bc"
  },
  "kernelspec": {
   "display_name": "Python 3.10.1 64-bit ('KeM': conda)",
   "name": "python3"
  },
  "language_info": {
   "codemirror_mode": {
    "name": "ipython",
    "version": 3
   },
   "file_extension": ".py",
   "mimetype": "text/x-python",
   "name": "python",
   "nbconvert_exporter": "python",
   "pygments_lexer": "ipython3",
   "version": "3.10.1"
  },
  "orig_nbformat": 4
 },
 "nbformat": 4,
 "nbformat_minor": 2
}
